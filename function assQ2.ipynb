{
 "cells": [
  {
   "cell_type": "code",
   "execution_count": 8,
   "id": "30b9fcf1-23c6-4459-9a38-fe42fbc48a34",
   "metadata": {},
   "outputs": [],
   "source": [
    "# Function using *args\n",
    "def sum_numbers(*args):\n",
    "    result = 0\n",
    "    for num in args:\n",
    "        result += num\n",
    "    return result\n",
    "\n",
    "# Function using **kwargs\n",
    "def display_info(**kwargs):\n",
    "    for key, value in kwargs.items():\n",
    "        print(f\"{key}: {value}\")"
   ]
  },
  {
   "cell_type": "code",
   "execution_count": 11,
   "id": "9f520f8e-43cf-44d7-a069-c3b794de69e2",
   "metadata": {},
   "outputs": [],
   "source": [
    "# example of the function"
   ]
  },
  {
   "cell_type": "code",
   "execution_count": 15,
   "id": "9fd4d8dd-e0af-40d3-b004-0e8dfddcb16c",
   "metadata": {},
   "outputs": [],
   "source": [
    "def text1(*args, a):\n",
    "    return args , a"
   ]
  },
  {
   "cell_type": "code",
   "execution_count": 16,
   "id": "b9a69a9a-808b-42b4-a661-93c0a454258e",
   "metadata": {},
   "outputs": [
    {
     "data": {
      "text/plain": [
       "15"
      ]
     },
     "execution_count": 16,
     "metadata": {},
     "output_type": "execute_result"
    }
   ],
   "source": [
    "sum_numbers(1, 2, 3, 4, 5, )"
   ]
  },
  {
   "cell_type": "code",
   "execution_count": 20,
   "id": "8fb188c3-6e3a-4820-9dcb-1016732b34c0",
   "metadata": {},
   "outputs": [],
   "source": [
    "def text2(**kwargs):\n",
    "    return kwargs"
   ]
  },
  {
   "cell_type": "code",
   "execution_count": 34,
   "id": "24851630-055e-44ce-8dc0-98e972a23f75",
   "metadata": {},
   "outputs": [
    {
     "data": {
      "text/plain": [
       "{'name': 'pratyush', 'age': 25, 'city': 'gorakhpur'}"
      ]
     },
     "execution_count": 34,
     "metadata": {},
     "output_type": "execute_result"
    }
   ],
   "source": [
    "text2(name = \"pratyush\", age = 25, city=\"gorakhpur\")"
   ]
  },
  {
   "cell_type": "code",
   "execution_count": null,
   "id": "7ade3b1c-0044-4814-b8d1-2c43e4c1875e",
   "metadata": {},
   "outputs": [],
   "source": []
  }
 ],
 "metadata": {
  "kernelspec": {
   "display_name": "Python 3 (ipykernel)",
   "language": "python",
   "name": "python3"
  },
  "language_info": {
   "codemirror_mode": {
    "name": "ipython",
    "version": 3
   },
   "file_extension": ".py",
   "mimetype": "text/x-python",
   "name": "python",
   "nbconvert_exporter": "python",
   "pygments_lexer": "ipython3",
   "version": "3.10.8"
  }
 },
 "nbformat": 4,
 "nbformat_minor": 5
}
