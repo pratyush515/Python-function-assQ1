{
 "cells": [
  {
   "cell_type": "code",
   "execution_count": 1,
   "id": "6b44dd4f-906f-4890-b6d0-c20a3905d97a",
   "metadata": {},
   "outputs": [],
   "source": [
    "def is_prime(num):\n",
    "    if num < 2:\n",
    "        return False\n",
    "    for i in range(2, int(num**0.5) + 1):\n",
    "        if num % i == 0:\n",
    "            return False\n",
    "    return True"
   ]
  },
  {
   "cell_type": "code",
   "execution_count": 2,
   "id": "5bfac83b-0e49-4db0-a621-b564533e0a5e",
   "metadata": {},
   "outputs": [],
   "source": [
    "def prime_generator(limit):\n",
    "    count = 0\n",
    "    number = 2\n",
    "    while count < limit:\n",
    "        if is_prime(number):\n",
    "            yield number\n",
    "            count += 1\n",
    "        number += 1"
   ]
  },
  {
   "cell_type": "code",
   "execution_count": 4,
   "id": "da6a63e8-5723-46c9-aa21-440b7874c35e",
   "metadata": {},
   "outputs": [],
   "source": [
    "prime_gen = prime_generator(20)"
   ]
  },
  {
   "cell_type": "code",
   "execution_count": 5,
   "id": "0276c2a6-3dbe-4a55-900e-2a3014e550b4",
   "metadata": {},
   "outputs": [
    {
     "name": "stdout",
     "output_type": "stream",
     "text": [
      "2\n",
      "3\n",
      "5\n",
      "7\n",
      "11\n",
      "13\n",
      "17\n",
      "19\n",
      "23\n",
      "29\n",
      "31\n",
      "37\n",
      "41\n",
      "43\n",
      "47\n",
      "53\n",
      "59\n",
      "61\n",
      "67\n",
      "71\n"
     ]
    }
   ],
   "source": [
    "for _ in range(20):\n",
    "    print(next(prime_gen))"
   ]
  },
  {
   "cell_type": "code",
   "execution_count": null,
   "id": "233ecc73-f8d4-4d48-a343-adce46eefa55",
   "metadata": {},
   "outputs": [],
   "source": []
  }
 ],
 "metadata": {
  "kernelspec": {
   "display_name": "Python 3 (ipykernel)",
   "language": "python",
   "name": "python3"
  },
  "language_info": {
   "codemirror_mode": {
    "name": "ipython",
    "version": 3
   },
   "file_extension": ".py",
   "mimetype": "text/x-python",
   "name": "python",
   "nbconvert_exporter": "python",
   "pygments_lexer": "ipython3",
   "version": "3.10.8"
  }
 },
 "nbformat": 4,
 "nbformat_minor": 5
}
